{
 "cells": [
  {
   "cell_type": "code",
   "execution_count": 1,
   "id": "a0e5bab8",
   "metadata": {},
   "outputs": [],
   "source": [
    "import os\n",
    "import torch\n",
    "import torch.nn as nn\n",
    "import torch.optim as optim\n",
    "from torch.utils.data import Dataset, DataLoader\n",
    "from torchvision import transforms\n",
    "from PIL import Image\n",
    "from sklearn.model_selection import train_test_split\n",
    "import matplotlib.pyplot as plt\n",
    "import numpy as np\n",
    "import random\n",
    "from torchsummary import summary \n",
    "import onnx \n",
    "import onnxruntime as ort\n",
    "from sklearn.metrics import precision_score, recall_score, f1_score\n",
    "from sklearn.metrics import mean_absolute_error\n",
    "import random\n",
    "import os\n",
    "import datetime\n",
    "import matplotlib.pyplot as plt"
   ]
  },
  {
   "cell_type": "code",
   "execution_count": 2,
   "id": "c24cfd53",
   "metadata": {},
   "outputs": [],
   "source": [
    "import os, sys\n",
    "REPO = \"/home/deepaksr/project/Project_files_2/U-2-Net\"    \n",
    "os.chdir(REPO)\n",
    "sys.path.insert(0, REPO)"
   ]
  },
  {
   "cell_type": "code",
   "execution_count": 3,
   "id": "4dfccd42",
   "metadata": {},
   "outputs": [],
   "source": [
    "from model import U2NET, U2NETP"
   ]
  },
  {
   "cell_type": "code",
   "execution_count": 4,
   "id": "39cf38a8",
   "metadata": {},
   "outputs": [],
   "source": [
    "class Saliency_RGB_v1(nn.Module):\n",
    "    def __init__(self):\n",
    "        super(Saliency_RGB_v1, self).__init__()\n",
    "        self.encoder = nn.Sequential(\n",
    "            nn.Conv2d(3, 64, kernel_size=3, padding=1), nn.ReLU(), nn.MaxPool2d(2),\n",
    "            nn.Conv2d(64, 128, kernel_size=3, padding=1), nn.ReLU(), nn.MaxPool2d(2),\n",
    "            nn.Conv2d(128, 256, kernel_size=3, padding=1), nn.ReLU(), nn.MaxPool2d(2)\n",
    "        )\n",
    "        self.decoder = nn.Sequential(\n",
    "            nn.ConvTranspose2d(256, 128, kernel_size=2, stride=2), nn.ReLU(),\n",
    "            nn.ConvTranspose2d(128, 64, kernel_size=2, stride=2), nn.ReLU(),\n",
    "            nn.ConvTranspose2d(64, 1, kernel_size=2, stride=2), nn.Sigmoid()\n",
    "        )\n",
    "\n",
    "    def forward(self, x):\n",
    "        x = self.encoder(x)\n",
    "        x = self.decoder(x)\n",
    "        return x"
   ]
  },
  {
   "cell_type": "code",
   "execution_count": 5,
   "id": "ad981aa0",
   "metadata": {},
   "outputs": [],
   "source": [
    "class Saliency_RGB_v2(nn.Module):\n",
    "    def __init__(self):\n",
    "        super(Saliency_RGB_v2, self).__init__()\n",
    "        self.encoder = nn.Sequential(\n",
    "            nn.Conv2d(3, 8, kernel_size=3, padding=1), nn.ReLU(), nn.MaxPool2d(2),\n",
    "            nn.Conv2d(8, 16, kernel_size=3, padding=1), nn.ReLU(), nn.MaxPool2d(2),\n",
    "            nn.Conv2d(16, 32, kernel_size=3, padding=1), nn.ReLU(), nn.MaxPool2d(2),\n",
    "            nn.Conv2d(32, 64, kernel_size=3, padding=1), nn.ReLU(), nn.MaxPool2d(2)\n",
    "        )\n",
    "        self.decoder = nn.Sequential(\n",
    "            nn.ConvTranspose2d(64, 32, kernel_size=2, stride=2), nn.ReLU(),\n",
    "            nn.ConvTranspose2d(32, 16, kernel_size=2, stride=2), nn.ReLU(),\n",
    "            nn.ConvTranspose2d(16, 8, kernel_size=2, stride=2), nn.ReLU(),\n",
    "            nn.ConvTranspose2d(8, 1, kernel_size=2, stride=2), nn.Sigmoid()\n",
    "        )\n",
    "\n",
    "    def forward(self, x):\n",
    "        x = self.encoder(x)\n",
    "        x = self.decoder(x)\n",
    "        return x"
   ]
  },
  {
   "cell_type": "markdown",
   "id": "c89d077f",
   "metadata": {},
   "source": [
    "### d1"
   ]
  },
  {
   "cell_type": "code",
   "execution_count": null,
   "id": "fc70a821",
   "metadata": {},
   "outputs": [
    {
     "name": "stdout",
     "output_type": "stream",
     "text": [
      "All models loaded to CPU and set to eval()\n"
     ]
    },
    {
     "name": "stderr",
     "output_type": "stream",
     "text": [
      "/tmp/ipykernel_3255485/1734783359.py:10: FutureWarning: You are using `torch.load` with `weights_only=False` (the current default value), which uses the default pickle module implicitly. It is possible to construct malicious pickle data which will execute arbitrary code during unpickling (See https://github.com/pytorch/pytorch/blob/main/SECURITY.md#untrusted-models for more details). In a future release, the default value for `weights_only` will be flipped to `True`. This limits the functions that could be executed during unpickling. Arbitrary objects will no longer be allowed to be loaded via this mode unless they are explicitly allowlisted by the user via `torch.serialization.add_safe_globals`. We recommend you start setting `weights_only=True` for any use case where you don't have full control of the loaded file. Please open an issue on GitHub for any issues related to this experimental feature.\n",
      "  model_u2.load_state_dict(torch.load(pth_u2, map_location=device))\n",
      "/tmp/ipykernel_3255485/1734783359.py:14: FutureWarning: You are using `torch.load` with `weights_only=False` (the current default value), which uses the default pickle module implicitly. It is possible to construct malicious pickle data which will execute arbitrary code during unpickling (See https://github.com/pytorch/pytorch/blob/main/SECURITY.md#untrusted-models for more details). In a future release, the default value for `weights_only` will be flipped to `True`. This limits the functions that could be executed during unpickling. Arbitrary objects will no longer be allowed to be loaded via this mode unless they are explicitly allowlisted by the user via `torch.serialization.add_safe_globals`. We recommend you start setting `weights_only=True` for any use case where you don't have full control of the loaded file. Please open an issue on GitHub for any issues related to this experimental feature.\n",
      "  model_v1.load_state_dict(torch.load(pth_v1, map_location=device))\n",
      "/tmp/ipykernel_3255485/1734783359.py:18: FutureWarning: You are using `torch.load` with `weights_only=False` (the current default value), which uses the default pickle module implicitly. It is possible to construct malicious pickle data which will execute arbitrary code during unpickling (See https://github.com/pytorch/pytorch/blob/main/SECURITY.md#untrusted-models for more details). In a future release, the default value for `weights_only` will be flipped to `True`. This limits the functions that could be executed during unpickling. Arbitrary objects will no longer be allowed to be loaded via this mode unless they are explicitly allowlisted by the user via `torch.serialization.add_safe_globals`. We recommend you start setting `weights_only=True` for any use case where you don't have full control of the loaded file. Please open an issue on GitHub for any issues related to this experimental feature.\n",
      "  model_v2.load_state_dict(torch.load(pth_v2, map_location=device))\n"
     ]
    }
   ],
   "source": [
    "# Paths to your .pth checkpoints\n",
    "pth_u2 = \"/home/deepaksr/project/Project_files_2/U-2-Net/training_logs/u2netp_finetune_rgb_d1_20250511_201128/best_model.pth\"\n",
    "pth_v1 = \"/home/deepaksr/project/Project_files_2/training_logs/RGB_v1_d1_fixed_bce_20250514_081726/best_model.pth\"\n",
    "pth_v2 = \"/home/deepaksr/project/Project_files_2/training_logs/RGB_v2_d1_fixed_bce_20250514_090812/best_model.pth\"\n",
    "\n",
    "device = torch.device(\"cpu\")   # Load to CPU for portability\n",
    "\n",
    "# 1) U2NETP saliency\n",
    "model_u2 = U2NETP(3,1).to(device).eval()\n",
    "model_u2.load_state_dict(torch.load(pth_u2, map_location=device))\n",
    "\n",
    "# 2) Your Saliency_v1\n",
    "model_v1 = Saliency_RGB_v1().to(device).eval()\n",
    "model_v1.load_state_dict(torch.load(pth_v1, map_location=device))\n",
    "\n",
    "# 3) Your Saliency_v2\n",
    "model_v2 = Saliency_RGB_v2().to(device).eval()\n",
    "model_v2.load_state_dict(torch.load(pth_v2, map_location=device))\n",
    "\n",
    "print(\"All models loaded to CPU and set to eval()\")\n"
   ]
  },
  {
   "cell_type": "code",
   "execution_count": null,
   "id": "4e7901b4",
   "metadata": {},
   "outputs": [
    {
     "name": "stdout",
     "output_type": "stream",
     "text": [
      "Saved u2netp_finetuned_rgb_d1.pt\n",
      "Saved saliency_rgb_v1_d1.pt\n",
      "Saved saliency_rgb_v2_d1.pt\n"
     ]
    }
   ],
   "source": [
    "# Cell: Script and save each model\n",
    "\n",
    "# Make output directory\n",
    "out_dir = \"/home/deepaksr/project/Project_files_2/saliency_models_pt/RGB/simulated_dataset\"\n",
    "os.makedirs(out_dir, exist_ok=True)\n",
    "\n",
    "# 1) Script U2NETP\n",
    "scripted_u2 = torch.jit.script(model_u2)\n",
    "scripted_u2.save(f\"{out_dir}/u2netp_finetuned_rgb_d1.pt\")\n",
    "print(\"Saved u2netp_finetuned_rgb_d1.pt\")\n",
    "\n",
    "# 2) Script Saliency_v1\n",
    "scripted_v1 = torch.jit.script(model_v1)\n",
    "scripted_v1.save(f\"{out_dir}/saliency_rgb_v1_d1.pt\")\n",
    "print(\"Saved saliency_rgb_v1_d1.pt\")\n",
    "\n",
    "# 3) Script Saliency_v2\n",
    "scripted_v2 = torch.jit.script(model_v2)\n",
    "scripted_v2.save(f\"{out_dir}/saliency_rgb_v2_d1.pt\")\n",
    "print(\"Saved saliency_rgb_v2_d1.pt\")\n"
   ]
  },
  {
   "cell_type": "markdown",
   "id": "03865dd2",
   "metadata": {},
   "source": [
    "### d2"
   ]
  },
  {
   "cell_type": "code",
   "execution_count": 10,
   "id": "7329839a",
   "metadata": {},
   "outputs": [
    {
     "name": "stdout",
     "output_type": "stream",
     "text": [
      "All models loaded to CPU and set to eval()\n"
     ]
    },
    {
     "name": "stderr",
     "output_type": "stream",
     "text": [
      "/tmp/ipykernel_3255485/66445236.py:10: FutureWarning: You are using `torch.load` with `weights_only=False` (the current default value), which uses the default pickle module implicitly. It is possible to construct malicious pickle data which will execute arbitrary code during unpickling (See https://github.com/pytorch/pytorch/blob/main/SECURITY.md#untrusted-models for more details). In a future release, the default value for `weights_only` will be flipped to `True`. This limits the functions that could be executed during unpickling. Arbitrary objects will no longer be allowed to be loaded via this mode unless they are explicitly allowlisted by the user via `torch.serialization.add_safe_globals`. We recommend you start setting `weights_only=True` for any use case where you don't have full control of the loaded file. Please open an issue on GitHub for any issues related to this experimental feature.\n",
      "  model_u2.load_state_dict(torch.load(pth_u2, map_location=device))\n",
      "/tmp/ipykernel_3255485/66445236.py:14: FutureWarning: You are using `torch.load` with `weights_only=False` (the current default value), which uses the default pickle module implicitly. It is possible to construct malicious pickle data which will execute arbitrary code during unpickling (See https://github.com/pytorch/pytorch/blob/main/SECURITY.md#untrusted-models for more details). In a future release, the default value for `weights_only` will be flipped to `True`. This limits the functions that could be executed during unpickling. Arbitrary objects will no longer be allowed to be loaded via this mode unless they are explicitly allowlisted by the user via `torch.serialization.add_safe_globals`. We recommend you start setting `weights_only=True` for any use case where you don't have full control of the loaded file. Please open an issue on GitHub for any issues related to this experimental feature.\n",
      "  model_v1.load_state_dict(torch.load(pth_v1, map_location=device))\n",
      "/tmp/ipykernel_3255485/66445236.py:18: FutureWarning: You are using `torch.load` with `weights_only=False` (the current default value), which uses the default pickle module implicitly. It is possible to construct malicious pickle data which will execute arbitrary code during unpickling (See https://github.com/pytorch/pytorch/blob/main/SECURITY.md#untrusted-models for more details). In a future release, the default value for `weights_only` will be flipped to `True`. This limits the functions that could be executed during unpickling. Arbitrary objects will no longer be allowed to be loaded via this mode unless they are explicitly allowlisted by the user via `torch.serialization.add_safe_globals`. We recommend you start setting `weights_only=True` for any use case where you don't have full control of the loaded file. Please open an issue on GitHub for any issues related to this experimental feature.\n",
      "  model_v2.load_state_dict(torch.load(pth_v2, map_location=device))\n"
     ]
    }
   ],
   "source": [
    "# Paths to your .pth checkpoints\n",
    "pth_u2 = \"/home/deepaksr/project/Project_files_2/U-2-Net/training_logs/u2netp_finetune_rgb_d2_20250511_205923/best_model.pth\"\n",
    "pth_v1 = \"/home/deepaksr/project/Project_files_2/training_logs/RGB_v1_d2_fixed_bce_20250514_095620/best_model.pth\"\n",
    "pth_v2 = \"/home/deepaksr/project/Project_files_2/training_logs/RGB_v2_d2_fixed_bce_20250515_130907/best_model.pth\"\n",
    "\n",
    "device = torch.device(\"cpu\")   # Load to CPU for portability\n",
    "\n",
    "# 1) U2NETP saliency\n",
    "model_u2 = U2NETP(3,1).to(device).eval()\n",
    "model_u2.load_state_dict(torch.load(pth_u2, map_location=device))\n",
    "\n",
    "# 2) Your Saliency_v1\n",
    "model_v1 = Saliency_RGB_v1().to(device).eval()\n",
    "model_v1.load_state_dict(torch.load(pth_v1, map_location=device))\n",
    "\n",
    "# 3) Your Saliency_v2\n",
    "model_v2 = Saliency_RGB_v2().to(device).eval()\n",
    "model_v2.load_state_dict(torch.load(pth_v2, map_location=device))\n",
    "\n",
    "print(\"All models loaded to CPU and set to eval()\")\n"
   ]
  },
  {
   "cell_type": "code",
   "execution_count": 11,
   "id": "342cb757",
   "metadata": {},
   "outputs": [
    {
     "name": "stdout",
     "output_type": "stream",
     "text": [
      "Saved u2netp_finetuned_rgb_d2.pt\n",
      "Saved saliency_rgb_v1_d2.pt\n",
      "Saved saliency_rgb_v2_d2.pt\n"
     ]
    }
   ],
   "source": [
    "# Cell: Script and save each model\n",
    "\n",
    "# Make output directory\n",
    "out_dir = \"/home/deepaksr/project/Project_files_2/saliency_models_pt/RGB/paper_dataset\"\n",
    "os.makedirs(out_dir, exist_ok=True)\n",
    "\n",
    "# 1) Script U2NETP\n",
    "scripted_u2 = torch.jit.script(model_u2)\n",
    "scripted_u2.save(f\"{out_dir}/u2netp_finetuned_rgb_d2.pt\")\n",
    "print(\"Saved u2netp_finetuned_rgb_d2.pt\")\n",
    "\n",
    "# 2) Script Saliency_v1\n",
    "scripted_v1 = torch.jit.script(model_v1)\n",
    "scripted_v1.save(f\"{out_dir}/saliency_rgb_v1_d2.pt\")\n",
    "print(\"Saved saliency_rgb_v1_d2.pt\")\n",
    "\n",
    "# 3) Script Saliency_v2\n",
    "scripted_v2 = torch.jit.script(model_v2)\n",
    "scripted_v2.save(f\"{out_dir}/saliency_rgb_v2_d2.pt\")\n",
    "print(\"Saved saliency_rgb_v2_d2.pt\")\n"
   ]
  },
  {
   "cell_type": "markdown",
   "id": "c4e41e94",
   "metadata": {},
   "source": [
    "### d3"
   ]
  },
  {
   "cell_type": "code",
   "execution_count": null,
   "id": "0841ae44",
   "metadata": {},
   "outputs": [
    {
     "name": "stdout",
     "output_type": "stream",
     "text": [
      "All models loaded to CPU and set to eval()\n"
     ]
    },
    {
     "name": "stderr",
     "output_type": "stream",
     "text": [
      "/tmp/ipykernel_3255485/686869804.py:10: FutureWarning: You are using `torch.load` with `weights_only=False` (the current default value), which uses the default pickle module implicitly. It is possible to construct malicious pickle data which will execute arbitrary code during unpickling (See https://github.com/pytorch/pytorch/blob/main/SECURITY.md#untrusted-models for more details). In a future release, the default value for `weights_only` will be flipped to `True`. This limits the functions that could be executed during unpickling. Arbitrary objects will no longer be allowed to be loaded via this mode unless they are explicitly allowlisted by the user via `torch.serialization.add_safe_globals`. We recommend you start setting `weights_only=True` for any use case where you don't have full control of the loaded file. Please open an issue on GitHub for any issues related to this experimental feature.\n",
      "  model_u2.load_state_dict(torch.load(pth_u2, map_location=device))\n",
      "/tmp/ipykernel_3255485/686869804.py:14: FutureWarning: You are using `torch.load` with `weights_only=False` (the current default value), which uses the default pickle module implicitly. It is possible to construct malicious pickle data which will execute arbitrary code during unpickling (See https://github.com/pytorch/pytorch/blob/main/SECURITY.md#untrusted-models for more details). In a future release, the default value for `weights_only` will be flipped to `True`. This limits the functions that could be executed during unpickling. Arbitrary objects will no longer be allowed to be loaded via this mode unless they are explicitly allowlisted by the user via `torch.serialization.add_safe_globals`. We recommend you start setting `weights_only=True` for any use case where you don't have full control of the loaded file. Please open an issue on GitHub for any issues related to this experimental feature.\n",
      "  model_v1.load_state_dict(torch.load(pth_v1, map_location=device))\n",
      "/tmp/ipykernel_3255485/686869804.py:18: FutureWarning: You are using `torch.load` with `weights_only=False` (the current default value), which uses the default pickle module implicitly. It is possible to construct malicious pickle data which will execute arbitrary code during unpickling (See https://github.com/pytorch/pytorch/blob/main/SECURITY.md#untrusted-models for more details). In a future release, the default value for `weights_only` will be flipped to `True`. This limits the functions that could be executed during unpickling. Arbitrary objects will no longer be allowed to be loaded via this mode unless they are explicitly allowlisted by the user via `torch.serialization.add_safe_globals`. We recommend you start setting `weights_only=True` for any use case where you don't have full control of the loaded file. Please open an issue on GitHub for any issues related to this experimental feature.\n",
      "  model_v2.load_state_dict(torch.load(pth_v2, map_location=device))\n"
     ]
    }
   ],
   "source": [
    "# Paths to your .pth checkpoints\n",
    "pth_u2 = \"/home/deepaksr/project/Project_files_2/U-2-Net/training_logs/u2netp_finetune_rgb_d3_20250511_212906/best_model.pth\"\n",
    "pth_v1 = \"/home/deepaksr/project/Project_files_2/training_logs/RGB_v1_d3_fixed_bce_20250517_153240/best_model.pth\"\n",
    "pth_v2 = \"/home/deepaksr/project/Project_files_2/training_logs/RGB_v2_d3_fixed_bce_20250518_022557/best_model.pth\"\n",
    "\n",
    "device = torch.device(\"cpu\")   # Load to CPU for portability\n",
    "\n",
    "# 1) U2NETP saliency\n",
    "model_u2 = U2NETP(3,1).to(device).eval()\n",
    "model_u2.load_state_dict(torch.load(pth_u2, map_location=device))\n",
    "\n",
    "# 2) Your Saliency_v1\n",
    "model_v1 = Saliency_RGB_v1().to(device).eval()\n",
    "model_v1.load_state_dict(torch.load(pth_v1, map_location=device))\n",
    "\n",
    "# 3) Your Saliency_v2\n",
    "model_v2 = Saliency_RGB_v2().to(device).eval()\n",
    "model_v2.load_state_dict(torch.load(pth_v2, map_location=device))\n",
    "\n",
    "print(\"All models loaded to CPU and set to eval()\")\n"
   ]
  },
  {
   "cell_type": "code",
   "execution_count": 9,
   "id": "6a69e8ba",
   "metadata": {},
   "outputs": [
    {
     "name": "stdout",
     "output_type": "stream",
     "text": [
      "Saved u2netp_finetuned_rgb_d3.pt\n",
      "Saved saliency_rgb_v1_d3.pt\n",
      "Saved saliency_rgb_v2_d3.pt\n"
     ]
    }
   ],
   "source": [
    "# Cell: Script and save each model\n",
    "\n",
    "# Make output directory\n",
    "out_dir = \"/home/deepaksr/project/Project_files_2/saliency_models_pt/RGB/military_dataset\"\n",
    "os.makedirs(out_dir, exist_ok=True)\n",
    "\n",
    "# 1) Script U2NETP\n",
    "scripted_u2 = torch.jit.script(model_u2)\n",
    "scripted_u2.save(f\"{out_dir}/u2netp_finetuned_rgb_d3.pt\")\n",
    "print(\"Saved u2netp_finetuned_rgb_d3.pt\")\n",
    "\n",
    "# 2) Script Saliency_v1\n",
    "scripted_v1 = torch.jit.script(model_v1)\n",
    "scripted_v1.save(f\"{out_dir}/saliency_rgb_v1_d3.pt\")\n",
    "print(\"Saved saliency_rgb_v1_d3.pt\")\n",
    "\n",
    "# 3) Script Saliency_v2\n",
    "scripted_v2 = torch.jit.script(model_v2)\n",
    "scripted_v2.save(f\"{out_dir}/saliency_rgb_v2_d3.pt\")\n",
    "print(\"Saved saliency_rgb_v2_d3.pt\")\n"
   ]
  },
  {
   "cell_type": "markdown",
   "id": "ca7e8d39",
   "metadata": {},
   "source": [
    "## Combined"
   ]
  },
  {
   "cell_type": "code",
   "execution_count": null,
   "id": "e828c302",
   "metadata": {},
   "outputs": [],
   "source": [
    "# Paths to your .pth checkpoints\n",
    "pth_u2 = \"/home/deepaksr/project/Project_files_2/U-2-Net/training_logs/u2netp_finetune_rgb_d4_combined_20250517_080546/best_model.pth\"\n",
    "pth_v1 = \"\"\n",
    "pth_v2 = \"\"\n",
    "\n",
    "device = torch.device(\"cpu\")   # Load to CPU for portability\n",
    "\n",
    "# 1) U2NETP saliency\n",
    "model_u2 = U2NETP(3,1).to(device).eval()\n",
    "model_u2.load_state_dict(torch.load(pth_u2, map_location=device))\n",
    "\n",
    "# 2) Your Saliency_v1\n",
    "model_v1 = Saliency_RGB_v1().to(device).eval()\n",
    "model_v1.load_state_dict(torch.load(pth_v1, map_location=device))\n",
    "\n",
    "# 3) Your Saliency_v2\n",
    "model_v2 = Saliency_RGB_v2().to(device).eval()\n",
    "model_v2.load_state_dict(torch.load(pth_v2, map_location=device))\n",
    "\n",
    "print(\"All models loaded to CPU and set to eval()\")\n"
   ]
  }
 ],
 "metadata": {
  "kernelspec": {
   "display_name": "cnn",
   "language": "python",
   "name": "python3"
  },
  "language_info": {
   "codemirror_mode": {
    "name": "ipython",
    "version": 3
   },
   "file_extension": ".py",
   "mimetype": "text/x-python",
   "name": "python",
   "nbconvert_exporter": "python",
   "pygments_lexer": "ipython3",
   "version": "3.12.5"
  }
 },
 "nbformat": 4,
 "nbformat_minor": 5
}
